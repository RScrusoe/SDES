{
 "cells": [
  {
   "cell_type": "markdown",
   "metadata": {},
   "source": [
    "# Subsets of elements\n",
    "* For lists and other indexable elements, you can easily find subsets:"
   ]
  },
  {
   "cell_type": "code",
   "execution_count": 18,
   "metadata": {
    "collapsed": false
   },
   "outputs": [
    {
     "name": "stdout",
     "output_type": "stream",
     "text": [
      "range(3, 6)\n",
      "e q\n",
      "range(1, 20, 3)\n",
      "T i o xusv ea g\n",
      "18\n",
      "g\n"
     ]
    }
   ],
   "source": [
    "x = range(1, 20)\n",
    "y = \"The quick brown fox jumps over the lazy dog.\"\n",
    "# print elements 2 to 4\n",
    "print(x[2:5])\n",
    "print(y[2:5])\n",
    "# Print every third element starting from the first element\n",
    "print(x[::3])\n",
    "print(y[::3])\n",
    "\n",
    "# Print the second last element\n",
    "print(x[-2])\n",
    "print(y[-2])"
   ]
  },
  {
   "cell_type": "markdown",
   "metadata": {},
   "source": [
    "# Libraries\n",
    "\n",
    "* Python comes with batteries included.\n",
    "* Several commonly used things are available in standard libraries.\n",
    "* Size and breadth are large\n",
    "* Not all of them have the same quality, but most of them are great.\n",
    "* Hundreds of modules tested, ready to use."
   ]
  },
  {
   "cell_type": "markdown",
   "metadata": {},
   "source": [
    "# Standard Libraries\n",
    "\n",
    "* Text processing `string`, `re`, `textwrap`\n",
    "* Numbers `decimal`, `random`\n",
    "* File system `os`, `glob`, `shutil`, `stringIO`\n",
    "* Building Applications `argparse`\n",
    "* Runtime features `sys`\n",
    "* Several others are there including networks, cryptography etc."
   ]
  },
  {
   "cell_type": "markdown",
   "metadata": {},
   "source": [
    "# String\n",
    "* String utilities for a lot of common things\n",
    "* capitalize, capitalize first letters etc.\n",
    "* Have to _import_ `string` module\n",
    "* Some examples:"
   ]
  },
  {
   "cell_type": "code",
   "execution_count": 19,
   "metadata": {
    "collapsed": false
   },
   "outputs": [
    {
     "data": {
      "text/plain": [
       "'The quick brown fox jumps over the lazy dog.'"
      ]
     },
     "execution_count": 19,
     "metadata": {},
     "output_type": "execute_result"
    }
   ],
   "source": [
    "import string\n",
    "s = 'the quick brown fox jumps over the lazy dog.'\n",
    "s.capitalize()"
   ]
  },
  {
   "cell_type": "code",
   "execution_count": 26,
   "metadata": {
    "collapsed": false
   },
   "outputs": [
    {
     "data": {
      "text/plain": [
       "'The Quick Brown Fox Jumps Over The Lazy Dog.'"
      ]
     },
     "execution_count": 26,
     "metadata": {},
     "output_type": "execute_result"
    }
   ],
   "source": [
    "s = \"The quick brown fox jumps over the lazy dog.\"\n",
    "string.capwords(s)"
   ]
  },
  {
   "cell_type": "markdown",
   "metadata": {},
   "source": [
    "# Example: Phonecode\n",
    "* Convert letters to numbers as seen on phones\n",
    "* Phone letters: 2 → ABC, 3 → DEF … 9 → WXYZ\n",
    "* For instance, BUYME is 28963"
   ]
  },
  {
   "cell_type": "code",
   "execution_count": 27,
   "metadata": {
    "collapsed": false
   },
   "outputs": [
    {
     "data": {
      "text/plain": [
       "'T43 78425 27696 369 58677 6837 843 5299 364.'"
      ]
     },
     "execution_count": 27,
     "metadata": {},
     "output_type": "execute_result"
    }
   ],
   "source": [
    "phonecode_lower = str.maketrans(string.ascii_lowercase, '22233344455566677778889999')\n",
    "phonecode_upper = str.maketrans(string.ascii_uppercase, '22233344455566677778889999')\n",
    "s.translate(phonecode_lower)"
   ]
  },
  {
   "cell_type": "markdown",
   "metadata": {},
   "source": [
    "## Exercise\n",
    "How would you convert both upper and lowercase to phonecode?"
   ]
  },
  {
   "cell_type": "code",
   "execution_count": null,
   "metadata": {
    "collapsed": false
   },
   "outputs": [],
   "source": []
  },
  {
   "cell_type": "markdown",
   "metadata": {},
   "source": [
    "# textwrap\n",
    "* Useful for pretty printing paragraphs\n",
    "* Wrapping is provided automatically"
   ]
  },
  {
   "cell_type": "code",
   "execution_count": 36,
   "metadata": {
    "collapsed": false
   },
   "outputs": [
    {
     "name": "stdout",
     "output_type": "stream",
     "text": [
      "This is a\n",
      "really\n",
      "long\n",
      "rambling\n",
      "sentence\n",
      "with no\n",
      "end in\n",
      "sight.\n",
      "This\n",
      "sentence\n",
      "is going\n",
      "to put\n",
      "people to\n",
      "sleep\n",
      "\n",
      "This is a really long rambling sentence with no\n",
      "end in sight. This sentence is going to put people\n",
      "to sleep\n"
     ]
    }
   ],
   "source": [
    "import textwrap\n",
    "sample_text=\"This is a really long rambling sentence with no end in sight. This sentence is going to put people to sleep\"\n",
    "textwrap.fill(sample_text,width=10)\n",
    "print(textwrap.fill(sample_text,width=10))\n",
    "print()\n",
    "print(textwrap.fill(sample_text,width=50))"
   ]
  },
  {
   "cell_type": "markdown",
   "metadata": {},
   "source": [
    "# Decimal\n",
    "* Module for arbitrary precision arithmetic of floating point"
   ]
  },
  {
   "cell_type": "code",
   "execution_count": 37,
   "metadata": {
    "collapsed": false
   },
   "outputs": [
    {
     "name": "stdout",
     "output_type": "stream",
     "text": [
      "0.09999999000000001\n",
      "0.099999999\n",
      "0.09999999990000001\n"
     ]
    }
   ],
   "source": [
    "print(0.1-0.00000001)\n",
    "print(0.1-0.000000001)\n",
    "print(0.1-0.0000000001)"
   ]
  },
  {
   "cell_type": "markdown",
   "metadata": {},
   "source": [
    "# With decimal"
   ]
  },
  {
   "cell_type": "code",
   "execution_count": 51,
   "metadata": {
    "collapsed": false
   },
   "outputs": [
    {
     "data": {
      "text/plain": [
       "tuple"
      ]
     },
     "execution_count": 51,
     "metadata": {},
     "output_type": "execute_result"
    }
   ],
   "source": [
    "import decimal\n",
    "a=(0,(1,0),-2)\n",
    "b=(0,(1,0),-9)\n",
    "type(a)"
   ]
  },
  {
   "cell_type": "markdown",
   "metadata": {},
   "source": [
    "* Construct a tuple with sign, digits and exponent"
   ]
  },
  {
   "cell_type": "code",
   "execution_count": 52,
   "metadata": {
    "collapsed": false
   },
   "outputs": [
    {
     "data": {
      "text/plain": [
       "Decimal('0.099999990')"
      ]
     },
     "execution_count": 52,
     "metadata": {},
     "output_type": "execute_result"
    }
   ],
   "source": [
    "ad = decimal.Decimal(a)\n",
    "bd = decimal.Decimal(b)\n",
    "type(ad)\n",
    "ad - bd"
   ]
  },
  {
   "cell_type": "markdown",
   "metadata": {},
   "source": [
    "# Contexts, Setting precision"
   ]
  },
  {
   "cell_type": "code",
   "execution_count": 55,
   "metadata": {
    "collapsed": false
   },
   "outputs": [
    {
     "name": "stdout",
     "output_type": "stream",
     "text": [
      "Context(prec=28, rounding=ROUND_HALF_EVEN, Emin=-999999, Emax=999999, capitals=1, clamp=0, flags=[Inexact, Rounded], traps=[InvalidOperation, DivisionByZero, Overflow])\n",
      "0.33333333333333333333\n",
      "0.3333333333333333333333333333333333333333\n",
      "0.6666666666666666666666666666666666666666\n",
      "1.333333333333333333333333333333333333333\n",
      "1.333333333333333333333333333333333333333\n"
     ]
    }
   ],
   "source": [
    "from decimal import *\n",
    "print(getcontext())\n",
    "getcontext().prec=20\n",
    "cd = decimal.Decimal((0,(3,0),-1))\n",
    "print(1/cd)\n",
    "getcontext().prec=40\n",
    "print(1/cd)\n",
    "print(1/cd+1/cd)\n",
    "print(1/cd+1/cd*3)\n",
    "print(1/cd+1)\n",
    "#print(1/cd+1.0)"
   ]
  },
  {
   "cell_type": "markdown",
   "metadata": {},
   "source": [
    "# Setting precision locally"
   ]
  },
  {
   "cell_type": "code",
   "execution_count": 56,
   "metadata": {
    "collapsed": false
   },
   "outputs": [
    {
     "name": "stdout",
     "output_type": "stream",
     "text": [
      "1.0\n",
      "Local Precision: 2\n",
      "Default precision: 40\n",
      "1.047166666666666666666666666666666666667\n"
     ]
    }
   ],
   "source": [
    "with decimal.localcontext() as c:\n",
    "   c.prec=2\n",
    "   print(decimal.Decimal('3.1415')/3)\n",
    "   print('Local Precision:', c.prec)\n",
    "print('Default precision:',decimal.getcontext().prec)\n",
    "print(decimal.Decimal('3.1415')/3)"
   ]
  },
  {
   "cell_type": "markdown",
   "metadata": {},
   "source": [
    "* `c` has a local context. Changes to `c` is not propagated to rest of code.\n",
    "* Can set several contexts within same code"
   ]
  },
  {
   "cell_type": "markdown",
   "metadata": {},
   "source": [
    "# Per-instance context"
   ]
  },
  {
   "cell_type": "markdown",
   "metadata": {},
   "source": [
    "* Variables can also carry contexts with them.\n",
    "* Operations with the variable will have that context\n",
    "* Mixing two contexts, with two different precisions, will give higher precision of the two"
   ]
  },
  {
   "cell_type": "code",
   "execution_count": 57,
   "metadata": {
    "collapsed": false
   },
   "outputs": [
    {
     "name": "stdout",
     "output_type": "stream",
     "text": [
      "PI: 3.14\n",
      "RESULT: 6.3114\n"
     ]
    }
   ],
   "source": [
    "import decimal\n",
    "c = decimal.getcontext().copy()\n",
    "c.prec = 3\n",
    "pi = c.create_decimal('3.1415')\n",
    "print('PI:', pi)\n",
    "print('RESULT:', decimal.Decimal('2.01') * pi)"
   ]
  },
  {
   "cell_type": "markdown",
   "metadata": {},
   "source": [
    "# Fractions\n",
    "* See fraction module also\n",
    "* Numerator, denominator combination\n",
    "* All operations are done with numerator, denominator\n",
    "* Can convert fractions to floats and vice versa"
   ]
  },
  {
   "cell_type": "markdown",
   "metadata": {},
   "source": [
    "# Random"
   ]
  },
  {
   "cell_type": "code",
   "execution_count": 78,
   "metadata": {
    "collapsed": false
   },
   "outputs": [
    {
     "name": "stdout",
     "output_type": "stream",
     "text": [
      "0.375986267407762\n",
      "0.9822428719391535\n",
      "0.38350504617783177\n",
      "0.5204510064900055\n",
      "0.9695754537075303\n"
     ]
    }
   ],
   "source": [
    "import random\n",
    "for i in range(5):\n",
    "    print(random.random())"
   ]
  },
  {
   "cell_type": "markdown",
   "metadata": {},
   "source": [
    "* Repeat once more"
   ]
  },
  {
   "cell_type": "code",
   "execution_count": 79,
   "metadata": {
    "collapsed": false
   },
   "outputs": [
    {
     "name": "stdout",
     "output_type": "stream",
     "text": [
      "0.3826451857969857\n",
      "0.0925560235163857\n",
      "0.6164335402984279\n",
      "0.9277889298403925\n",
      "0.6115379823420043\n"
     ]
    }
   ],
   "source": [
    "for i in range(5):\n",
    "    print(random.random())"
   ]
  },
  {
   "cell_type": "markdown",
   "metadata": {},
   "source": [
    "* You get different values\n",
    "* For uniform random numbers:"
   ]
  },
  {
   "cell_type": "code",
   "execution_count": 76,
   "metadata": {
    "collapsed": false
   },
   "outputs": [
    {
     "name": "stdout",
     "output_type": "stream",
     "text": [
      "66.17157363319582\n",
      "72.20459802681887\n",
      "10.729644905406404\n",
      "22.906417534384897\n",
      "58.7214199147031\n"
     ]
    }
   ],
   "source": [
    "for i in range(5):\n",
    "    print(random.uniform(1,100))"
   ]
  },
  {
   "cell_type": "markdown",
   "metadata": {},
   "source": [
    "# Setting seeds\n",
    "* Sometimes you want to repeat experiments\n",
    "* Set a seed and use it for debug/design phase\n",
    "* Remove seed and deploy"
   ]
  },
  {
   "cell_type": "code",
   "execution_count": 86,
   "metadata": {
    "collapsed": false
   },
   "outputs": [
    {
     "name": "stdout",
     "output_type": "stream",
     "text": [
      "14.30206016712772\n",
      "84.89593995678604\n",
      "76.6136872786848\n",
      "26.251833548202747\n",
      "50.04807362210215\n"
     ]
    }
   ],
   "source": [
    "random.seed(1)\n",
    "for i in range(5):\n",
    "   print(random.uniform(1,100))"
   ]
  },
  {
   "cell_type": "markdown",
   "metadata": {},
   "source": [
    "* Run it again?"
   ]
  },
  {
   "cell_type": "markdown",
   "metadata": {},
   "source": [
    "# Random Integers"
   ]
  },
  {
   "cell_type": "code",
   "execution_count": 102,
   "metadata": {
    "collapsed": false
   },
   "outputs": [
    {
     "name": "stdout",
     "output_type": "stream",
     "text": [
      "63\n",
      "94\n",
      "4\n",
      "\n",
      "[-5, 5]:2\n",
      "-5\n",
      "-1\n",
      "\n"
     ]
    }
   ],
   "source": [
    "for i in range(3):\n",
    "    print(random.randint(1, 100))\n",
    "print('\\n[-5, 5]:', end=\"\")\n",
    "for i in range(3):\n",
    "    print(random.randint(-5, 5))\n",
    "print()"
   ]
  },
  {
   "cell_type": "markdown",
   "metadata": {},
   "source": [
    "# Random elements from a range"
   ]
  },
  {
   "cell_type": "code",
   "execution_count": 107,
   "metadata": {
    "collapsed": false
   },
   "outputs": [
    {
     "name": "stdout",
     "output_type": "stream",
     "text": [
      "85\n",
      "35\n",
      "60\n"
     ]
    }
   ],
   "source": [
    "import random\n",
    "for i in range(3):\n",
    "    print(random.randrange(0, 101, 5))"
   ]
  },
  {
   "cell_type": "markdown",
   "metadata": {},
   "source": [
    "* randrange supports a step argument\n",
    "* More efficient because range is not fully constructed"
   ]
  },
  {
   "cell_type": "markdown",
   "metadata": {},
   "source": [
    "# Picking random items"
   ]
  },
  {
   "cell_type": "code",
   "execution_count": 109,
   "metadata": {
    "collapsed": false
   },
   "outputs": [
    {
     "name": "stdout",
     "output_type": "stream",
     "text": [
      "Heads: 4980\n",
      "Tails: 5020\n"
     ]
    }
   ],
   "source": [
    "import random\n",
    "import itertools\n",
    "outcomes = { 'heads':0, 'tails':0,}\n",
    "sides = list(outcomes.keys())\n",
    "\n",
    "for i in range(10000):\n",
    "     outcomes[ random.choice(sides) ] += 1\n",
    "print('Heads:', outcomes['heads'])\n",
    "print('Tails:', outcomes['tails'])"
   ]
  },
  {
   "cell_type": "markdown",
   "metadata": {},
   "source": [
    "* `choice()` selects randomly from a sequence"
   ]
  },
  {
   "cell_type": "markdown",
   "metadata": {},
   "source": [
    "# Sampling\n",
    "* Sampling from a population\n",
    "* sample() function generates samples without repeating values\n",
    "* Does not modify input sequence"
   ]
  },
  {
   "cell_type": "code",
   "execution_count": 114,
   "metadata": {
    "collapsed": false
   },
   "outputs": [
    {
     "name": "stdout",
     "output_type": "stream",
     "text": [
      "mismanage\n",
      "Alexander\n",
      "unbeknown\n",
      "poets\n",
      "fatheads\n"
     ]
    }
   ],
   "source": [
    "import random\n",
    "with open('/usr/share/dict/words', 'rt') as f:\n",
    "   words = f.readlines()\n",
    "words = [ w.rstrip() for w in words ]\n",
    "for w in random.sample(words, 5):\n",
    "    print(w)"
   ]
  },
  {
   "cell_type": "markdown",
   "metadata": {},
   "source": [
    "# math library\n",
    "* `math` has several mathematical functions\n",
    "* whatever you expect from a math library\n",
    "* Take a look!\n"
   ]
  },
  {
   "cell_type": "markdown",
   "metadata": {},
   "source": [
    "# File System\n",
    "* Python has several tools to work with files\n",
    "* Common operations like looking at file contents, building filenames, parsing file names, traversing directories\n",
    "* Filenames are represented as simple strings\n",
    "* Strings can be built from platform independent components in os.path\n",
    "  - For example, to deal with / in Unix vs. \\ in Windows"
   ]
  },
  {
   "cell_type": "markdown",
   "metadata": {},
   "source": [
    "# os.path\n",
    "* Platform independent operations for file manipulation\n",
    "* Even if you are not planning to port your application to another platform, use `os.path`\n"
   ]
  },
  {
   "cell_type": "markdown",
   "metadata": {},
   "source": [
    "# Parsing Paths\n",
    "* **os.sep** —The separator between portions of the path (e.g., “ / ” or “ \\ ”).\n",
    "* **os.extsep** —The separator between a filename and the file “extension” (e.g.,“ . ”).\n",
    "* **os.pardir** —The path component that means traverse the directory tree up one level (e.g., “ .. ”).\n",
    "* **os.curdir** —The path component that refers to the current directory (e.g., “ . ”)."
   ]
  },
  {
   "cell_type": "markdown",
   "metadata": {},
   "source": [
    "# os.path.split\n",
    "* `split()` breaks the path into two separate parts\n",
    "* returns a tuple"
   ]
  },
  {
   "cell_type": "code",
   "execution_count": 56,
   "metadata": {
    "collapsed": false
   },
   "outputs": [
    {
     "name": "stdout",
     "output_type": "stream",
     "text": [
      " /one/two/three : ('/one/two', 'three')\n",
      "/one/two/three/ : ('/one/two/three', '')\n",
      "              / : ('/', '')\n",
      "              . : ('', '.')\n",
      "                : ('', '')\n"
     ]
    }
   ],
   "source": [
    "import os.path\n",
    "for path in [ '/one/two/three',  '/one/two/three/',\n",
    "    '/',  '.',\n",
    "    '']:\n",
    "        print('%15s : %s' % (path, os.path.split(path)))"
   ]
  },
  {
   "cell_type": "markdown",
   "metadata": {},
   "source": [
    "# os.path.splitext and os.path.commonprefix\n",
    "* os.path.splitext() splits on ext\n",
    "* gives filename and extension separately\n",
    "* os.path.commonprefix() gives common prefix of paths passed as argument\n",
    "* Example:"
   ]
  },
  {
   "cell_type": "code",
   "execution_count": 57,
   "metadata": {
    "collapsed": false
   },
   "outputs": [
    {
     "data": {
      "text/plain": [
       "'/one/two'"
      ]
     },
     "execution_count": 57,
     "metadata": {},
     "output_type": "execute_result"
    }
   ],
   "source": [
    "paths=[\"/one/two/three\",\"/one/two\", \"/one/two/three/a.txt\"]\n",
    "os.path.commonprefix(paths)"
   ]
  },
  {
   "cell_type": "markdown",
   "metadata": {},
   "source": [
    "# Building Paths\n",
    "* To combine several path components, use `join()`\n",
    "* If any argument to `join()` begins with `os.sep`, all previous arguments are discarded\n",
    "* New one becomes the beginning of return value"
   ]
  },
  {
   "cell_type": "code",
   "execution_count": 59,
   "metadata": {
    "collapsed": false
   },
   "outputs": [
    {
     "name": "stdout",
     "output_type": "stream",
     "text": [
      "('one', 'two', 'three') : one/two/three\n",
      "('/', 'one', 'two', 'three') : /one/two/three\n",
      "('/one', '/two', '/three') : /three\n"
     ]
    }
   ],
   "source": [
    "import os.path\n",
    "for parts in [ ('one', 'two', 'three'), ('/', 'one', 'two', 'three'),\n",
    "               ('/one', '/two', '/three'),\n",
    "]:\n",
    "    print(parts, ':', os.path.join(*parts))"
   ]
  },
  {
   "cell_type": "markdown",
   "metadata": {},
   "source": [
    "# Normalizing Paths\n",
    "\n",
    "* Strings from different joins can end up with - `/one/two//three/four` - `/one/./two/three/./four`\n",
    "* Normalization removes these cases\n",
    "* `os.path.normpath(path)`\n",
    "* Try on\n",
    "  - `one/../two/three`\n",
    "  - `one/./two/three`\n",
    "  - `one//two//./three`"
   ]
  },
  {
   "cell_type": "markdown",
   "metadata": {},
   "source": [
    "# Traversing a Directory\n",
    "* `os.walk(top, func, arg)`\n",
    "* Walks from the top directory to each of the subdirectories"
   ]
  },
  {
   "cell_type": "code",
   "execution_count": 118,
   "metadata": {
    "collapsed": false
   },
   "outputs": [
    {
     "name": "stdout",
     "output_type": "stream",
     "text": [
      "example ['one'] ['two.txt']\n",
      "example/one [] ['file2.txt', 'file.txt']\n"
     ]
    }
   ],
   "source": [
    "import os\n",
    "if not os.path.exists('example'):\n",
    "    os.mkdir('example')\n",
    "if not os.path.exists('example/one'):\n",
    "    os.mkdir('example/one')\n",
    "with open('example/one/file.txt', 'wt') as f:\n",
    "    f.write('contents')\n",
    "with open('example/two.txt', 'wt') as f:\n",
    "    f.write('contents')\n",
    "for root,dirs,files in os.walk('example'):\n",
    "    print(root, dirs, files)"
   ]
  },
  {
   "cell_type": "markdown",
   "metadata": {},
   "source": [
    "# glob\n",
    "* To find filenames which match a pattern\n",
    "* Packs a lot of power\n",
    "* Can use to find files that have a certain extension, prefix or some pattern in the middle\n",
    "* **DO NOT** write custom code"
   ]
  },
  {
   "cell_type": "code",
   "execution_count": 124,
   "metadata": {
    "collapsed": false
   },
   "outputs": [
    {
     "name": "stdout",
     "output_type": "stream",
     "text": [
      "example/two.txt\n",
      "example/one\n"
     ]
    }
   ],
   "source": [
    "import glob\n",
    "for name in glob.glob('example/*'):\n",
    "     print(name)"
   ]
  },
  {
   "cell_type": "markdown",
   "metadata": {},
   "source": [
    "* Prints all the contents of `example` directory\n",
    "* Does not recurse\n",
    "* To list contents of a subdirectory, pattern must be listed"
   ]
  },
  {
   "cell_type": "code",
   "execution_count": 74,
   "metadata": {
    "collapsed": false
   },
   "outputs": [
    {
     "name": "stdout",
     "output_type": "stream",
     "text": [
      "example/two.txt\n"
     ]
    }
   ],
   "source": [
    "for name in glob.glob('example/*w*.txt'):\n",
    "    print(name)"
   ]
  },
  {
   "cell_type": "markdown",
   "metadata": {},
   "source": [
    "# shutil\n",
    "* Useful for high level file operations\n",
    "  - Copy files\n",
    "  - Set permissions etc.\n",
    "* `import shutil`\n",
    "* Some important ones:\n",
    "  - `copy()`, `copy2()`, `copytree()`, `rmtree()`, `stat()`, `make_archive()`"
   ]
  },
  {
   "cell_type": "markdown",
   "metadata": {},
   "source": [
    "# sys\n",
    "* Probe or change the configuration of the Python interpreter\n",
    "* Interact with the environment"
   ]
  },
  {
   "cell_type": "code",
   "execution_count": 76,
   "metadata": {
    "collapsed": false
   },
   "outputs": [
    {
     "name": "stdout",
     "output_type": "stream",
     "text": [
      "3.5.2+ (default, Aug  5 2016, 08:07:14) \n",
      "[GCC 6.1.1 20160724]\n",
      "linux\n",
      "sys.flags(debug=0, inspect=0, interactive=0, optimize=0, dont_write_bytecode=0, no_user_site=0, no_site=0, ignore_environment=0, verbose=0, bytes_warning=0, quiet=0, hash_randomization=1, isolated=0)\n"
     ]
    }
   ],
   "source": [
    "import sys\n",
    "\n",
    "print(sys.version)\n",
    "print(sys.platform)\n",
    "print(sys.flags)"
   ]
  },
  {
   "cell_type": "markdown",
   "metadata": {},
   "source": [
    "# Runtime Environment with sys\n",
    "* `sys.argv`\n",
    "* Example:"
   ]
  },
  {
   "cell_type": "code",
   "execution_count": 125,
   "metadata": {
    "collapsed": false
   },
   "outputs": [
    {
     "name": "stdout",
     "output_type": "stream",
     "text": [
      "['/home/kumar/.local/lib/python3.5/site-packages/ipykernel/__main__.py', '-f', '/run/user/1000/jupyter/kernel-96e3a7ca-f2a2-49d0-bd4d-d3b0a0dfd132.json']\n"
     ]
    }
   ],
   "source": [
    "import sys\n",
    "print(sys.argv)"
   ]
  },
  {
   "cell_type": "markdown",
   "metadata": {},
   "source": [
    "* Save the contents in \"sysargs.py\"\n",
    "* Then run\n",
    "  - `python sysargs.py`\n",
    "  - `python sysargs.py -l`\n",
    "  - `python sysargs -l -a`"
   ]
  },
  {
   "cell_type": "markdown",
   "metadata": {},
   "source": [
    "# Input and Output Streams\n",
    "* Following Unix philosophy, can access stdin, stdout and stderr"
   ]
  },
  {
   "cell_type": "code",
   "execution_count": 126,
   "metadata": {
    "collapsed": false
   },
   "outputs": [
    {
     "name": "stderr",
     "output_type": "stream",
     "text": [
      "STATUS: Reading from stdin\n",
      "STATUS: Writing data to stdout\n",
      "STATUS: Done\n"
     ]
    }
   ],
   "source": [
    "import sys\n",
    "print('STATUS: Reading from stdin', file=sys.stderr)\n",
    "data = sys.stdin.read()\n",
    "print('STATUS: Writing data to stdout', file=sys.stderr)\n",
    "sys.stdout.write(data)\n",
    "sys.stdout.flush()\n",
    "print('STATUS: Done', file=sys.stderr)"
   ]
  },
  {
   "cell_type": "markdown",
   "metadata": {},
   "source": [
    "# Exit Code\n",
    "* Convention that a program exits with 0 as error code on clean exit\n",
    "* Non-zero for other exits\n",
    "* Example: Write a program that expects a number less than 5 as input"
   ]
  },
  {
   "cell_type": "code",
   "execution_count": null,
   "metadata": {
    "collapsed": true
   },
   "outputs": [],
   "source": [
    "import sys\n",
    "num = int(sys.argv[1]);\n",
    "if(num<5):\n",
    "    sys.exit(0);\n",
    "else:\n",
    "    sys.exit(1);"
   ]
  },
  {
   "cell_type": "markdown",
   "metadata": {},
   "source": [
    "# Memory Management\n",
    "* `sys.getrefcount()`\n",
    "* `sys.getsizeof()`"
   ]
  },
  {
   "cell_type": "markdown",
   "metadata": {},
   "source": [
    "# Refcount\n",
    "\n",
    "* Python references to an object are counted\n",
    "* Object is deleted automatically if refcount hits 0"
   ]
  },
  {
   "cell_type": "code",
   "execution_count": 79,
   "metadata": {
    "collapsed": false
   },
   "outputs": [
    {
     "name": "stdout",
     "output_type": "stream",
     "text": [
      "At start         : 2\n",
      "Second reference : 3\n",
      "After del        : 2\n"
     ]
    }
   ],
   "source": [
    "import sys\n",
    "one = []\n",
    "print('At start         :', sys.getrefcount(one))\n",
    "two = one\n",
    "print('Second reference :', sys.getrefcount(one))\n",
    "del two\n",
    "print('After del        :', sys.getrefcount(one))"
   ]
  },
  {
   "cell_type": "markdown",
   "metadata": {},
   "source": [
    "# Object Sizes"
   ]
  },
  {
   "cell_type": "code",
   "execution_count": 80,
   "metadata": {
    "collapsed": false
   },
   "outputs": [
    {
     "name": "stdout",
     "output_type": "stream",
     "text": [
      "      list : 64\n",
      "     tuple : 48\n",
      "      dict : 288\n",
      "       str : 50\n",
      "       str : 55\n",
      "       int : 28\n",
      "     float : 24\n"
     ]
    }
   ],
   "source": [
    "import sys\n",
    "\n",
    "for obj in [ [], (), {}, 'c', 'string', 1, 2.3,\n",
    "         ]:\n",
    "    print('%10s : %s' % (type(obj).__name__, sys.getsizeof(obj)))"
   ]
  },
  {
   "cell_type": "markdown",
   "metadata": {},
   "source": [
    "* Caution: Reporting size of a custom class does not include size of the attributes"
   ]
  },
  {
   "cell_type": "markdown",
   "metadata": {},
   "source": [
    "# sizeof Attributes"
   ]
  },
  {
   "cell_type": "code",
   "execution_count": 82,
   "metadata": {
    "collapsed": false
   },
   "outputs": [
    {
     "name": "stdout",
     "output_type": "stream",
     "text": [
      "102\n"
     ]
    }
   ],
   "source": [
    "import sys\n",
    "class myClass(object):\n",
    "     def __init__(self):\n",
    "         self.a='a';\n",
    "         self.b=int(120)\n",
    "         self.c=float(10.5)\n",
    "\n",
    "myInst = myClass()\n",
    "myInst.__dict__.values()\n",
    "\n",
    "print(sum(sys.getsizeof(v) for v in myInst.__dict__.values()))"
   ]
  },
  {
   "cell_type": "markdown",
   "metadata": {},
   "source": [
    "## Exercise\n",
    "* Should write `__sizeof__` so that it adds up\n",
    "* Get size of the custom class that we wrote before\n",
    "* Use `object.__sizeof__(self)` to get size of the `object` class. sys.getsizeof(myInst) should work"
   ]
  },
  {
   "cell_type": "markdown",
   "metadata": {},
   "source": [
    "# Ints and Floats\n",
    "* `sys.maxint`\n",
    "* `sys.maxsize`\n",
    "* `sys.float_info.*` - Has several important constants related to floating point values - Stuff usually found in float.h"
   ]
  },
  {
   "cell_type": "markdown",
   "metadata": {},
   "source": [
    "# Modules\n",
    "* `sys.modules.keys()` - All the modules included so far, changes dynamically\n",
    "* `sys.builtin_module_names` - All builtin modules\n",
    "* `sys.path` - Path of the modules"
   ]
  },
  {
   "cell_type": "markdown",
   "metadata": {},
   "source": [
    "# URL Library\n",
    "* urllib\n",
    "  - Provides powerful methods for accessing URLs"
   ]
  },
  {
   "cell_type": "markdown",
   "metadata": {},
   "source": [
    "# Example\n",
    "* Let us get class web page and some relevant information from Madhu Belur's course page"
   ]
  },
  {
   "cell_type": "code",
   "execution_count": 2,
   "metadata": {
    "collapsed": false
   },
   "outputs": [
    {
     "name": "stdout",
     "output_type": "stream",
     "text": [
      "Date: Mon, 29 Aug 2016 12:02:06 GMT\n",
      "Server: Apache/2.4.6 (Red Hat Enterprise Linux) OpenSSL/1.0.1e-fips mod_perl/2.0.9dev Perl/v5.16.3\n",
      "Last-Modified: Tue, 02 Aug 2016 08:25:50 GMT\n",
      "ETag: \"4047-5391276dddf80\"\n",
      "Accept-Ranges: bytes\n",
      "Content-Length: 16455\n",
      "Connection: close\n",
      "Content-Type: text/html; charset=UTF-8\n",
      "\n",
      "\n"
     ]
    }
   ],
   "source": [
    "from urllib.request import urlopen\n",
    "\n",
    "response = urlopen(\"http://www.ee.iitb.ac.in/~belur/sdes\")\n",
    "#print(response)\n",
    "print(response.headers)\n",
    "#print(response.headers['Date'])\n",
    "#print(response.info())\n",
    "#text = response.readlines()\n",
    "#print(text)"
   ]
  },
  {
   "cell_type": "code",
   "execution_count": null,
   "metadata": {
    "collapsed": true
   },
   "outputs": [],
   "source": []
  }
 ],
 "metadata": {
  "kernelspec": {
   "display_name": "Python 3",
   "language": "python",
   "name": "python3"
  },
  "language_info": {
   "codemirror_mode": {
    "name": "ipython",
    "version": 3
   },
   "file_extension": ".py",
   "mimetype": "text/x-python",
   "name": "python",
   "nbconvert_exporter": "python",
   "pygments_lexer": "ipython3",
   "version": "3.5.2"
  }
 },
 "nbformat": 4,
 "nbformat_minor": 1
}
