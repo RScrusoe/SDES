{
 "cells": [
  {
   "cell_type": "markdown",
   "metadata": {},
   "source": [
    "# Phone code (using string)\n",
    "* e.g. BUYME is 28963"
   ]
  },
  {
   "cell_type": "code",
   "execution_count": 3,
   "metadata": {
    "collapsed": false
   },
   "outputs": [
    {
     "data": {
      "text/plain": [
       "'28963'"
      ]
     },
     "execution_count": 3,
     "metadata": {},
     "output_type": "execute_result"
    }
   ],
   "source": [
    "import string\n",
    "phonecode_lower = str.maketrans(string.ascii_lowercase,'22233344455566677778889999')\n",
    "phonecode_upper = str.maketrans(string.ascii_uppercase,'22233344455566677778889999')\n",
    "s = 'buyme'\n",
    "s.translate(phonecode_lower)"
   ]
  },
  {
   "cell_type": "markdown",
   "metadata": {},
   "source": [
    "# textwrap"
   ]
  },
  {
   "cell_type": "code",
   "execution_count": 6,
   "metadata": {
    "collapsed": false
   },
   "outputs": [
    {
     "name": "stdout",
     "output_type": "stream",
     "text": [
      "The Indian Institute of Technology Bombay is a\n",
      "public engineering and research institution\n",
      "located in Powai, Mumbai, India. In the QS World\n",
      "University Rankings 2014, IIT Bombay was ranked as\n",
      "India’s top university.\n"
     ]
    }
   ],
   "source": [
    "import textwrap\n",
    "sample_text = 'The Indian Institute of Technology Bombay is a public engineering and research institution located in Powai, Mumbai, India. In the QS World University Rankings 2014, IIT Bombay was ranked as India’s top university.'\n",
    "print(textwrap.fill(sample_text,width=50))"
   ]
  },
  {
   "cell_type": "code",
   "execution_count": 48,
   "metadata": {
    "collapsed": false
   },
   "outputs": [
    {
     "name": "stdout",
     "output_type": "stream",
     "text": [
      "60\n",
      "27\n",
      "9\n",
      "9\n",
      "6\n"
     ]
    }
   ],
   "source": [
    "import random\n",
    "for i in range(5):\n",
    "    print(random.randrange(0,100,3))   #This is inclusive range"
   ]
  },
  {
   "cell_type": "code",
   "execution_count": 22,
   "metadata": {
    "collapsed": false
   },
   "outputs": [
    {
     "name": "stdout",
     "output_type": "stream",
     "text": [
      "abcdefghijklmnopqrstuvwxyz\n",
      "a b c d e f g h i j k l m n o p q r s t u v w x y z "
     ]
    }
   ],
   "source": [
    "print(string.ascii_lowercase)\n",
    "for i in range(26):\n",
    "    print(list(string.ascii_lowercase)[i],end=' ')"
   ]
  },
  {
   "cell_type": "code",
   "execution_count": 51,
   "metadata": {
    "collapsed": false
   },
   "outputs": [
    {
     "name": "stdout",
     "output_type": "stream",
     "text": [
      "India’s\n",
      "top\n",
      "Bombay\n",
      "public\n",
      "University\n"
     ]
    }
   ],
   "source": [
    "sample_text = 'The Indian Institute of Technology Bombay is a public engineering and research institution located in Powai, Mumbai, India. In the QS World University Rankings 2014, IIT Bombay was ranked as India’s top university.'\n",
    "l = sample_text.split(' ')\n",
    "for i in range(5):\n",
    "    print(random.choice(l))"
   ]
  },
  {
   "cell_type": "code",
   "execution_count": 77,
   "metadata": {
    "collapsed": false
   },
   "outputs": [
    {
     "name": "stdout",
     "output_type": "stream",
     "text": [
      "True\n",
      "squeamish\n",
      "playhouse\n",
      "articulated\n",
      "amazon's\n",
      "clinches\n"
     ]
    }
   ],
   "source": [
    "with open('/usr/share/dict/words', 'rt') as f:\n",
    "    words = f.readlines()\n",
    "words = [w.rstrip() for w in words]      # rstrip gets rids of space, \\n,\\t on right side\n",
    "print('Rahul' in words)\n",
    "for w in random.sample(words,5):\n",
    "    print(w)"
   ]
  },
  {
   "cell_type": "markdown",
   "metadata": {},
   "source": [
    "# Module os"
   ]
  },
  {
   "cell_type": "code",
   "execution_count": 99,
   "metadata": {
    "collapsed": false
   },
   "outputs": [
    {
     "name": "stdout",
     "output_type": "stream",
     "text": [
      "/\n",
      ".\n",
      "..\n",
      ".\n",
      "/home/rs\n"
     ]
    },
    {
     "data": {
      "text/plain": [
       "('readme', '.md')"
      ]
     },
     "execution_count": 99,
     "metadata": {},
     "output_type": "execute_result"
    }
   ],
   "source": [
    "import os\n",
    "print(os.sep)\n",
    "print(os.extsep)\n",
    "print(os.pardir)\n",
    "print(os.curdir)\n",
    "print(os.environ['HOME'])\n",
    "os.path.splitext('readme.md')"
   ]
  },
  {
   "cell_type": "markdown",
   "metadata": {},
   "source": [
    "# glob"
   ]
  },
  {
   "cell_type": "code",
   "execution_count": 116,
   "metadata": {
    "collapsed": false
   },
   "outputs": [
    {
     "name": "stdout",
     "output_type": "stream",
     "text": [
      "/home/rs/Downloads/atlassian_git_cheatsheet.pdf\n",
      "/home/rs/Downloads/Friends script all in one.pdf\n",
      "/home/rs/Downloads/Canteen_Regulations.pdf\n",
      "/home/rs/Downloads/ResumeProofs.pdf\n",
      "/home/rs/Downloads/tender_h1_4_5_8.pdf\n"
     ]
    }
   ],
   "source": [
    "import glob\n",
    "for name in glob.glob('/home/rs/Downloads/*'):\n",
    "    if '.pdf' in name:\n",
    "        print(name)"
   ]
  },
  {
   "cell_type": "code",
   "execution_count": null,
   "metadata": {
    "collapsed": false
   },
   "outputs": [],
   "source": []
  }
 ],
 "metadata": {
  "kernelspec": {
   "display_name": "Python 3",
   "language": "python",
   "name": "python3"
  },
  "language_info": {
   "codemirror_mode": {
    "name": "ipython",
    "version": 3
   },
   "file_extension": ".py",
   "mimetype": "text/x-python",
   "name": "python",
   "nbconvert_exporter": "python",
   "pygments_lexer": "ipython3",
   "version": "3.5.2"
  }
 },
 "nbformat": 4,
 "nbformat_minor": 1
}
