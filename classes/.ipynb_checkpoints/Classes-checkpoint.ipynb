{
 "cells": [
  {
   "cell_type": "code",
   "execution_count": null,
   "metadata": {
    "collapsed": true
   },
   "outputs": [],
   "source": [
    "class Dog:\n",
    "    def __init__(self,name):\n",
    "        self.age = 0\n",
    "        self.name = name\n",
    "        self.noise  = \"Woof!\"\n",
    "        self.food = 'Bones :P'\n",
    "    def make_sound(self):\n",
    "        print(self.noise)\n",
    "    def eat_food(self):\n",
    "        print(\"Earing \"  + str(self.food))\n",
    "    def inc_age(self,n=1):\n",
    "        self.age += n"
   ]
  }
 ],
 "metadata": {
  "kernelspec": {
   "display_name": "Python 3",
   "language": "python",
   "name": "python3"
  },
  "language_info": {
   "codemirror_mode": {
    "name": "ipython",
    "version": 3
   },
   "file_extension": ".py",
   "mimetype": "text/x-python",
   "name": "python",
   "nbconvert_exporter": "python",
   "pygments_lexer": "ipython3",
   "version": "3.5.2"
  }
 },
 "nbformat": 4,
 "nbformat_minor": 1
}
