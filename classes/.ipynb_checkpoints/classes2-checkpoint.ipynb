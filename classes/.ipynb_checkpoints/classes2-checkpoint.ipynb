{
 "cells": [
  {
   "cell_type": "code",
   "execution_count": 6,
   "metadata": {
    "collapsed": false
   },
   "outputs": [
    {
     "name": "stdout",
     "output_type": "stream",
     "text": [
      "['Train No.', 'train Name', 'islno', 'station Code', 'Station Name', 'Arrival time', 'Departure time', 'Distance', 'Source Station Code', 'source Station Name', 'Destination station Code', 'Destination Station Name']\n"
     ]
    }
   ],
   "source": [
    "import csv\n",
    "file = open('trains.csv','r')\n",
    "reader = csv.reader(file)\n",
    "for row in reader:\n",
    "    print(row)\n",
    "    break"
   ]
  },
  {
   "cell_type": "code",
   "execution_count": 7,
   "metadata": {
    "collapsed": false
   },
   "outputs": [],
   "source": [
    "def convert_time_to_dict(s):\n",
    "    return {\"hours\":s[:2],\"minutes\":s[3:5]}\n",
    "\n",
    "def convert_dict_to_time(d):\n",
    "    return str(d['hours']) + ':' + str(d[\"minutes\"])\n",
    "\n",
    "class Train:\n",
    "    train_no = None\n",
    "    train_name = None\n",
    "    islno = None\n",
    "    station_code = None\n",
    "    station_name = None\n",
    "    arrival_time = None\n",
    "    departure_time = None\n",
    "    distance = None\n",
    "    source_station_code = None\n",
    "    source_station_name = None\n",
    "    destination_station_code = None\n",
    "    destination_station_name = None\n",
    "    \n",
    "    def __init__(self,csvitem):\n",
    "        self.train_no = csvitem[0].strip().replace(\"'\",\"\")\n",
    "        self.train_name = csvitem[1].strip()\n",
    "        self.islno = csvitem[2].strip()\n",
    "        self.station_code = csvitem[3].strip()\n",
    "        self.station_name = csvitem[4].strip()\n",
    "        self.arrival_time = convert_time_to_dict(csvitem[5].strip().replace(\"'\",\"\"))\n",
    "        self.departure_time = convert_time_to_dict(csvitem[6].strip().replace(\"'\",\"\"))\n",
    "        self.distance = csvitem[7].strip()\n",
    "        self.source_station_code = csvitem[8].strip()\n",
    "        self.source_station_name = csvitem[9].strip()\n",
    "        self.destination_station_code = csvitem[10].strip()\n",
    "        self.destination_station_name = csvitem[11].strip()"
   ]
  },
  {
   "cell_type": "code",
   "execution_count": null,
   "metadata": {
    "collapsed": false
   },
   "outputs": [],
   "source": []
  },
  {
   "cell_type": "code",
   "execution_count": 8,
   "metadata": {
    "collapsed": false,
    "scrolled": true
   },
   "outputs": [],
   "source": [
    "import csv\n",
    "\n",
    "def train_chart(x):\n",
    "    #Will return nothing but will make train chart csv file\n",
    "    file = open('trains.csv','r')\n",
    "    reader = csv.reader(file)\n",
    "    for row in reader:\n",
    "        print(row)\n",
    "        break\n",
    "    \n",
    "    test_station = x\n",
    "    out = open('train_chart.csv','w')\n",
    "    writer = csv.writer(out,delimiter=\",\")\n",
    "    writer.writerow(['Train Number','Train Name','Arrival','Departure','Source','Destination'])\n",
    "    for row in reader:\n",
    "        t = Train(row)\n",
    "        if t.station_name.lower() == test_station.lower():\n",
    "            data = [t.train_no,t.train_name,convert_dict_to_time(t.arrival_time),convert_dict_to_time(t.departure_time),t.source_station_name,t.destination_station_name]\n",
    "            print(data)\n",
    "            writer.writerow(data)\n",
    "    out.close()\n",
    "    file.close()\n",
    "    \n",
    "#train_chart(\"sAnGlI\")"
   ]
  },
  {
   "cell_type": "code",
   "execution_count": 59,
   "metadata": {
    "collapsed": false,
    "scrolled": true
   },
   "outputs": [
    {
     "name": "stdout",
     "output_type": "stream",
     "text": [
      "Train_Number Departure@source Arrival@Destination Duration Distance\n",
      "['1] ', '11036', 'SHARAVATI  EXP', '21:05', '02:10', '5:5', 272]\n",
      "['2] ', '17412', 'MAHALAXMI EXP', '21:53', '03:20', '5:27', 272]\n",
      "['3] ', '17305', 'NZM LINK EXP', '22:45', '03:55', '5:10', 272]\n",
      "['4] ', '12781', 'SWARNA JAYANTHI', '10:35', '15:55', '5:20', 272]\n",
      "['5] ', '11039', 'MAHARASHTRA EXP', '16:55', '23:05', '6:10', 272]\n",
      "['6] ', '12779', 'GOA EXPRESS', '22:45', '03:55', '5:10', 272]\n",
      "['7] ', '11024', 'SAHYADRI EXP', '00:18', '06:50', '6:32', 272]\n",
      "['8] ', '16508', 'JODHPUR EXPRESS', '13:00', '18:40', '5:40', 272]\n",
      "['9] ', '16532', 'GARIB NAWAZ EXP', '13:00', '18:40', '5:40', 272]\n",
      "['10] ', '12147', 'NIZAMUDDIN EXP', '10:35', '15:55', '5:20', 272]\n",
      "['11] ', '11022', 'CHALUKYA  EXP', '21:05', '02:10', '5:5', 272]\n",
      "['12] ', '16506', 'GANDHIDHAM EXP', '13:00', '18:40', '5:40', 272]\n",
      "['13] ', '11098', 'POORNA EXPRESS', '23:15', '05:05', '5:50', 272]\n",
      "['14] ', '11006', 'CHALUKYA  EXP', '21:05', '02:10', '5:5', 272]\n",
      "['15] ', '17317', 'LOKAMANYA TT EX', '21:38', '02:50', '5:12', 272]\n",
      "['16] ', '11050', 'AHMEDABAD EXP', '14:00', '19:40', '5:40', 272]\n",
      "['17] ', '11030', 'KOYNA EXPRESS', '09:28', '15:40', '6:12', 272]\n",
      "['18] ', '16210', 'AJMER EXPRESS', '13:00', '18:40', '5:40', 272]\n"
     ]
    }
   ],
   "source": [
    "def trains_between(start_code,stop_code):\n",
    "    # Stores csv file of Train list in trains_between.csv\n",
    "    \n",
    "    infile = open('trains.csv','r')\n",
    "    reader = csv.reader(infile)\n",
    "    start = str(start_code).lower()\n",
    "    stop = str(stop_code).lower()\n",
    "    l0 = []\n",
    "    for row in reader:\n",
    "        train = Train(row)\n",
    "        if train.station_code.lower() == start:\n",
    "            l0.append(train)\n",
    "        if train.station_code.lower() == stop:\n",
    "            l0.append(train)\n",
    "    #print(len(l0))\n",
    "    l1 =[]\n",
    "    for i in l0:\n",
    "        l1.append(i.train_no)\n",
    "    #print(len(l1))\n",
    "    d = {}\n",
    "    for i in l1:\n",
    "        d[i] = []\n",
    "        for j in l0:\n",
    "            if j.train_no == i:\n",
    "                d[i].append(j.station_code)\n",
    "    train_no_list=[]\n",
    "    for i in d.keys():\n",
    "        if len(d[i]) >1:\n",
    "            if d[i][0].lower() == start:\n",
    "                train_no_list.append(i)\n",
    "\n",
    "    #print(train_no_list)\n",
    "    data = []\n",
    "    for i in train_no_list:\n",
    "        row = []\n",
    "        for j in l0:\n",
    "            if j.train_no == i:\n",
    "                if j.station_code.lower() == start:\n",
    "                    row.append(j.train_no)\n",
    "                    row.append(j.station_name)\n",
    "                    row.append(j.departure_time)\n",
    "                    row.append(j.distance)\n",
    "\n",
    "                if j.station_code.lower() == stop:\n",
    "                    row.append(j.distance)\n",
    "                    row.append(j.arrival_time)\n",
    "                    row.append(j.train_name)\n",
    "        data.append(row)\n",
    "    #print(data[0])\n",
    "    def min_to_duration(min):\n",
    "        m = min%60\n",
    "        h = int(min/60)\n",
    "        return str(h)+':'+str(m)\n",
    "    infile.close()\n",
    "    with open('trains_between.csv', 'w') as f:\n",
    "        wr = csv.writer(f,delimiter=\",\")\n",
    "        wr.writerow(['Train_Number','Departure@source', 'Arrival@Destination', 'Duration','Distance'])\n",
    "        print('Train_Number','Departure@source', 'Arrival@Destination', 'Duration','Distance')\n",
    "        ct = 1\n",
    "        for i in data:\n",
    "            row = []\n",
    "            row.append(str(ct) + \"] \")\n",
    "            row.append(i[0])\n",
    "            row.append(i[6])\n",
    "            row.append(str(i[2]['hours']) + ':' + str(i[2]['minutes']) )\n",
    "            row.append(str(i[5]['hours']) + ':' + str(i[5]['minutes']) )\n",
    "            td = int(i[2]['hours']) * 60 + int(i[2]['minutes'])\n",
    "            ta = int(i[5]['hours']) * 60 + int(i[5]['minutes'])\n",
    "            if ta > td:\n",
    "                row.append(min_to_duration(ta-td))\n",
    "            else:\n",
    "                row.append(min_to_duration(ta + (24*60-td)))\n",
    "            row.append(abs(int(i[3]) - int(i[4])))\n",
    "            wr.writerow(row)\n",
    "            print(row)\n",
    "            ct+=1\n",
    "trains_between('sLi','PuNE')"
   ]
  },
  {
   "cell_type": "code",
   "execution_count": null,
   "metadata": {
    "collapsed": true
   },
   "outputs": [],
   "source": []
  }
 ],
 "metadata": {
  "kernelspec": {
   "display_name": "Python 3",
   "language": "python",
   "name": "python3"
  },
  "language_info": {
   "codemirror_mode": {
    "name": "ipython",
    "version": 3
   },
   "file_extension": ".py",
   "mimetype": "text/x-python",
   "name": "python",
   "nbconvert_exporter": "python",
   "pygments_lexer": "ipython3",
   "version": "3.5.2"
  }
 },
 "nbformat": 4,
 "nbformat_minor": 1
}
