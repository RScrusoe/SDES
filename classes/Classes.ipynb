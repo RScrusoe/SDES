{
 "cells": [
  {
   "cell_type": "code",
   "execution_count": 75,
   "metadata": {
    "collapsed": true
   },
   "outputs": [],
   "source": [
    "class Dog:\n",
    "    def __init__(self,name):\n",
    "        self.fur_color = 'White'\n",
    "        self.age = 0\n",
    "        self.name = name\n",
    "        self.noise  = \"Woof!\"\n",
    "        self.food = 'Bones :P'\n",
    "    def make_sound(self):\n",
    "        print(self.noise)\n",
    "    def eat_food(self):\n",
    "        print(\"Earing \"  + str(self.food))\n",
    "    def inc_age(self,n=1):\n",
    "        self.age += n"
   ]
  },
  {
   "cell_type": "code",
   "execution_count": 55,
   "metadata": {
    "collapsed": false
   },
   "outputs": [
    {
     "name": "stdout",
     "output_type": "stream",
     "text": [
      "Woof!\n",
      "Earing Bones :P\n"
     ]
    }
   ],
   "source": [
    "joey = Dog('Joey')\n",
    "joey.make_sound()\n",
    "joey.eat_food()"
   ]
  },
  {
   "cell_type": "code",
   "execution_count": 80,
   "metadata": {
    "collapsed": false
   },
   "outputs": [
    {
     "name": "stdout",
     "output_type": "stream",
     "text": [
      "23\n",
      "24\n"
     ]
    }
   ],
   "source": [
    "joey.inc_age(5)\n",
    "print(joey.age)\n",
    "joey.inc_age()\n",
    "print(joey.age)"
   ]
  },
  {
   "cell_type": "code",
   "execution_count": 85,
   "metadata": {
    "collapsed": false
   },
   "outputs": [
    {
     "name": "stdout",
     "output_type": "stream",
     "text": [
      "Bhoo\n"
     ]
    }
   ],
   "source": [
    "jack = Dog(\"Jack\")\n",
    "jack.noise = 'Bhoo'\n",
    "jack.make_sound()"
   ]
  },
  {
   "cell_type": "code",
   "execution_count": 77,
   "metadata": {
    "collapsed": false
   },
   "outputs": [
    {
     "name": "stdout",
     "output_type": "stream",
     "text": [
      "Earing Bones :P\n",
      "0\n",
      "2\n"
     ]
    }
   ],
   "source": [
    "jack.eat_food()\n",
    "print(jack.age)\n",
    "jack.inc_age(2)\n",
    "print(jack.age)"
   ]
  },
  {
   "cell_type": "code",
   "execution_count": 78,
   "metadata": {
    "collapsed": false
   },
   "outputs": [
    {
     "name": "stdout",
     "output_type": "stream",
     "text": [
      "White\n"
     ]
    }
   ],
   "source": [
    "print(jack.fur_color)"
   ]
  }
 ],
 "metadata": {
  "kernelspec": {
   "display_name": "Python 3",
   "language": "python",
   "name": "python3"
  },
  "language_info": {
   "codemirror_mode": {
    "name": "ipython",
    "version": 3
   },
   "file_extension": ".py",
   "mimetype": "text/x-python",
   "name": "python",
   "nbconvert_exporter": "python",
   "pygments_lexer": "ipython3",
   "version": "3.5.2"
  }
 },
 "nbformat": 4,
 "nbformat_minor": 1
}
