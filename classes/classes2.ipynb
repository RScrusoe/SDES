{
 "cells": [
  {
   "cell_type": "code",
   "execution_count": 6,
   "metadata": {
    "collapsed": false
   },
   "outputs": [
    {
     "name": "stdout",
     "output_type": "stream",
     "text": [
      "['Train No.', 'train Name', 'islno', 'station Code', 'Station Name', 'Arrival time', 'Departure time', 'Distance', 'Source Station Code', 'source Station Name', 'Destination station Code', 'Destination Station Name']\n"
     ]
    }
   ],
   "source": [
    "import csv\n",
    "file = open('trains.csv','r')\n",
    "reader = csv.reader(file)\n",
    "for row in reader:\n",
    "    print(row)\n",
    "    break"
   ]
  },
  {
   "cell_type": "code",
   "execution_count": 7,
   "metadata": {
    "collapsed": false
   },
   "outputs": [],
   "source": [
    "def convert_time_to_dict(s):\n",
    "    return {\"hours\":s[:2],\"minutes\":s[3:5]}\n",
    "\n",
    "def convert_dict_to_time(d):\n",
    "    return str(d['hours']) + ':' + str(d[\"minutes\"])\n",
    "\n",
    "class Train:\n",
    "    train_no = None\n",
    "    train_name = None\n",
    "    islno = None\n",
    "    station_code = None\n",
    "    station_name = None\n",
    "    arrival_time = None\n",
    "    departure_time = None\n",
    "    distance = None\n",
    "    source_station_code = None\n",
    "    source_station_name = None\n",
    "    destination_station_code = None\n",
    "    destination_station_name = None\n",
    "    \n",
    "    def __init__(self,csvitem):\n",
    "        self.train_no = csvitem[0].strip().replace(\"'\",\"\")\n",
    "        self.train_name = csvitem[1].strip()\n",
    "        self.islno = csvitem[2].strip()\n",
    "        self.station_code = csvitem[3].strip()\n",
    "        self.station_name = csvitem[4].strip()\n",
    "        self.arrival_time = convert_time_to_dict(csvitem[5].strip().replace(\"'\",\"\"))\n",
    "        self.departure_time = convert_time_to_dict(csvitem[6].strip().replace(\"'\",\"\"))\n",
    "        self.distance = csvitem[7].strip()\n",
    "        self.source_station_code = csvitem[8].strip()\n",
    "        self.source_station_name = csvitem[9].strip()\n",
    "        self.destination_station_code = csvitem[10].strip()\n",
    "        self.destination_station_name = csvitem[11].strip()"
   ]
  },
  {
   "cell_type": "code",
   "execution_count": null,
   "metadata": {
    "collapsed": false
   },
   "outputs": [],
   "source": []
  },
  {
   "cell_type": "code",
   "execution_count": 8,
   "metadata": {
    "collapsed": false,
    "scrolled": true
   },
   "outputs": [],
   "source": [
    "import csv\n",
    "\n",
    "def train_chart(x):\n",
    "    #Will return nothing but will make train chart csv file\n",
    "    file = open('trains.csv','r')\n",
    "    reader = csv.reader(file)\n",
    "    for row in reader:\n",
    "        print(row)\n",
    "        break\n",
    "    \n",
    "    test_station = x\n",
    "    out = open('train_chart.csv','w')\n",
    "    writer = csv.writer(out,delimiter=\",\")\n",
    "    writer.writerow(['Train Number','Train Name','Arrival','Departure','Source','Destination'])\n",
    "    for row in reader:\n",
    "        t = Train(row)\n",
    "        if t.station_name.lower() == test_station.lower():\n",
    "            data = [t.train_no,t.train_name,convert_dict_to_time(t.arrival_time),convert_dict_to_time(t.departure_time),t.source_station_name,t.destination_station_name]\n",
    "            print(data)\n",
    "            writer.writerow(data)\n",
    "    out.close()\n",
    "    file.close()\n",
    "    \n",
    "#train_chart(\"sAnGlI\")"
   ]
  },
  {
   "cell_type": "code",
   "execution_count": 79,
   "metadata": {
    "collapsed": false,
    "scrolled": false
   },
   "outputs": [
    {
     "name": "stdout",
     "output_type": "stream",
     "text": [
      "Train_Number Departure@source Arrival@Destination Duration Distance\n",
      "['1] ', '22105', 'INDRAYANI EXP', '05:40', '05:51', '0:11', 9]\n",
      "['2] ', '12137', 'PUNJAB MAIL', '19:40', '19:53', '0:13', 9]\n",
      "['3] ', '11401', 'NANDIGRAM  EXP', '16:35', '16:48', '0:13', 9]\n",
      "['4] ', '10111', 'KONKAN KANYA EX', '23:05', '23:18', '0:13', 9]\n",
      "['5] ', '51027', 'FAST PASSENGER', '22:55', '23:08', '0:13', 9]\n",
      "['6] ', '12109', 'PANCHAVATI EXP', '18:15', '18:28', '0:13', 9]\n",
      "['7] ', '17617', 'TAPOVAN EXPRESS', '06:15', '06:28', '0:13', 9]\n",
      "['8] ', '11027', 'CHENNAI MAIL', '23:45', '23:53', '0:8', 9]\n",
      "['9] ', '12127', 'INTERCITY EXP', '06:40', '06:50', '0:10', 9]\n",
      "['10] ', '16351', 'NAGARCOIL EXP', '12:10', '12:18', '0:8', 9]\n",
      "['11] ', '11093', 'MAHANAGARI EXP', '00:10', '00:23', '0:13', 9]\n",
      "['12] ', '17057', 'DEVAGIRI EXP', '21:10', '21:23', '0:13', 9]\n",
      "['13] ', '01711', 'CSTM JBP SPL', '11:05', '11:17', '0:12', 9]\n",
      "['14] ', '12115', 'SIDDHESHWAR EXP', '22:45', '22:58', '0:13', 9]\n",
      "['15] ', '12111', 'CSTM AMRAVATI E', '20:05', '20:18', '0:13', 9]\n",
      "['16] ', '11007', 'DECCAN EXPRESS', '07:00', '07:11', '0:11', 9]\n",
      "['17] ', '17031', 'HYDERABAD EXP', '12:45', '12:58', '0:13', 9]\n",
      "['18] ', '22107', 'CSTM LATUR EXP', '21:00', '21:13', '0:13', 9]\n",
      "['19] ', '17411', 'MAHALAXMI EXP', '20:23', '20:33', '0:10', 9]\n",
      "['20] ', '12139', 'SEWAGRAM  EXP', '15:00', '15:08', '0:8', 9]\n",
      "['21] ', '12322', 'KOLKATA MAIL', '21:30', '21:43', '0:13', 9]\n",
      "['22] ', '12362', 'CSTM ASANSOL EX', '11:05', '11:18', '0:13', 9]\n",
      "['23] ', '16339', 'NAGARCOIL EXP', '12:10', '12:18', '0:8', 9]\n",
      "['24] ', '12188', 'JBP GARIB RATH', '13:30', '13:43', '0:13', 9]\n",
      "['25] ', '12869', 'HOWRAH SUP EXP', '11:05', '11:18', '0:13', 9]\n",
      "['26] ', '11029', 'KOYNA EXPRESS', '08:40', '08:51', '0:11', 9]\n",
      "['27] ', '11305', 'CSTM SOLAPUR EX', '21:20', '21:27', '0:7', 9]\n",
      "['28] ', '12859', 'GITANJALI EXP', '06:00', '06:13', '0:13', 9]\n",
      "['29] ', '12809', 'HOWRAH MAIL', '20:35', '20:48', '0:13', 9]\n",
      "['30] ', '10103', 'MANDOVI EXPRESS', '07:10', '07:22', '0:12', 9]\n",
      "['31] ', '12125', 'PRAGATI EXPRESS', '16:25', '16:37', '0:12', 9]\n",
      "['32] ', '01154', 'CSTM CSN T F SP', '15:35', '15:49', '0:14', 9]\n",
      "['33] ', '11301', 'UDYAN EXPRESS', '08:05', '08:18', '0:13', 9]\n",
      "['34] ', '51029', 'BB BJP FAST PAS', '22:55', '23:08', '0:13', 9]\n",
      "['35] ', '12105', 'VIDARBHA EXPRES', '19:10', '19:23', '0:13', 9]\n",
      "['36] ', '11023', 'SAHYADRI EXPRES', '17:50', '18:02', '0:12', 9]\n",
      "['37] ', '11041', 'CSTM CHENNAI EX', '14:00', '14:12', '0:12', 9]\n",
      "['38] ', '11019', 'KONARK EXPRESS', '15:10', '15:23', '0:13', 9]\n",
      "['39] ', '11009', 'SINHAGAD EXP', '14:30', '14:41', '0:11', 9]\n",
      "['40] ', '51033', 'SHIRDI FAST PAS', '22:55', '23:08', '0:13', 9]\n",
      "['41] ', '16331', 'TRIVANDRAM EXP', '12:10', '12:18', '0:8', 9]\n",
      "['42] ', '16381', 'KANYAKUMARI EXP', '15:45', '15:58', '0:13', 9]\n"
     ]
    }
   ],
   "source": [
    "def trains_between(start_code,stop_code):\n",
    "    # Stores csv file of Train list in trains_between.csv\n",
    "    \n",
    "    infile = open('trains.csv','r')\n",
    "    reader = csv.reader(infile)\n",
    "    start = str(start_code).lower()\n",
    "    stop = str(stop_code).lower()\n",
    "    l0 = []\n",
    "    for row in reader:\n",
    "        train = Train(row)\n",
    "        if train.station_code.lower() == start:\n",
    "            l0.append(train)\n",
    "        if train.station_code.lower() == stop:\n",
    "            l0.append(train)\n",
    "    #print(len(l0))\n",
    "    l1 =[]\n",
    "    for i in l0:\n",
    "        l1.append(i.train_no)\n",
    "    #print(len(l1))\n",
    "    d = {}\n",
    "    for i in l1:\n",
    "        d[i] = []\n",
    "        for j in l0:\n",
    "            if j.train_no == i:\n",
    "                d[i].append(j.station_code)\n",
    "    train_no_list=[]\n",
    "    for i in d.keys():\n",
    "        if len(d[i]) >1:\n",
    "            if d[i][0].lower() == start:\n",
    "                train_no_list.append(i)\n",
    "\n",
    "    #print(train_no_list)\n",
    "    data = []\n",
    "    for i in train_no_list:\n",
    "        row = []\n",
    "        for j in l0:\n",
    "            if j.train_no == i:\n",
    "                if j.station_code.lower() == start:\n",
    "                    row.append(j.train_no)\n",
    "                    row.append(j.station_name)\n",
    "                    row.append(j.departure_time)\n",
    "                    row.append(j.distance)\n",
    "\n",
    "                if j.station_code.lower() == stop:\n",
    "                    row.append(j.distance)\n",
    "                    row.append(j.arrival_time)\n",
    "                    row.append(j.train_name)\n",
    "        data.append(row)\n",
    "    #print(data[0])\n",
    "    def min_to_duration(min):\n",
    "        m = min%60\n",
    "        h = int(min/60)\n",
    "        return str(h)+':'+str(m)\n",
    "    infile.close()\n",
    "    with open('trains_between.csv', 'w') as f:\n",
    "        wr = csv.writer(f,delimiter=\",\")\n",
    "        wr.writerow(['Train_Number','Departure@source', 'Arrival@Destination', 'Duration','Distance'])\n",
    "        print('Train_Number','Departure@source', 'Arrival@Destination', 'Duration','Distance')\n",
    "        ct = 1\n",
    "        for i in data:\n",
    "            row = []\n",
    "            row.append(str(ct) + \"] \")\n",
    "            row.append(i[0])\n",
    "            row.append(i[6])\n",
    "            row.append(str(i[2]['hours']) + ':' + str(i[2]['minutes']) )\n",
    "            row.append(str(i[5]['hours']) + ':' + str(i[5]['minutes']) )\n",
    "            td = int(i[2]['hours']) * 60 + int(i[2]['minutes'])\n",
    "            ta = int(i[5]['hours']) * 60 + int(i[5]['minutes'])\n",
    "            if ta > td:\n",
    "                row.append(min_to_duration(ta-td))\n",
    "            else:\n",
    "                row.append(min_to_duration(ta + (24*60-td)))\n",
    "            row.append(abs(int(i[3]) - int(i[4])))\n",
    "            wr.writerow(row)\n",
    "            print(row)\n",
    "            ct+=1\n",
    "trains_between('cstm','dr')\n",
    "\n"
   ]
  },
  {
   "cell_type": "code",
   "execution_count": 74,
   "metadata": {
    "collapsed": false
   },
   "outputs": [
    {
     "name": "stdout",
     "output_type": "stream",
     "text": [
      "DELHI\n"
     ]
    },
    {
     "data": {
      "text/plain": [
       "'DLI'"
      ]
     },
     "execution_count": 74,
     "metadata": {},
     "output_type": "execute_result"
    }
   ],
   "source": [
    "def find_station_code(name):\n",
    "    infile = open('trains.csv','r')\n",
    "    reader = csv.reader(infile)\n",
    "    for i in reader:\n",
    "        t = Train(i)\n",
    "        if name.lower() == t.station_name.lower() :\n",
    "            print(t.station_name)\n",
    "            return t.station_code\n",
    "find_station_code('delhi')"
   ]
  }
 ],
 "metadata": {
  "kernelspec": {
   "display_name": "Python 3",
   "language": "python",
   "name": "python3"
  },
  "language_info": {
   "codemirror_mode": {
    "name": "ipython",
    "version": 3
   },
   "file_extension": ".py",
   "mimetype": "text/x-python",
   "name": "python",
   "nbconvert_exporter": "python",
   "pygments_lexer": "ipython3",
   "version": "3.5.2"
  }
 },
 "nbformat": 4,
 "nbformat_minor": 1
}
