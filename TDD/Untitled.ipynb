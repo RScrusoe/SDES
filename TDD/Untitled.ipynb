{
 "cells": [
  {
   "cell_type": "code",
   "execution_count": null,
   "metadata": {
    "collapsed": false
   },
   "outputs": [],
   "source": [
    "def gcd(a, b):\n",
    "    if b== 0 :\n",
    "        return a\n",
    "    return (gcd(b, a%b))\n",
    "    while b!=0 :\n",
    "        a,b = b, a%b\n",
    "      \n",
    "    return a\n",
    "\n",
    "def test_gcd():\n",
    "\tassert gcd(48,64) == 16\n",
    "\tassert gcd(44,19) == 1\n",
    "    #assert gcd(-2, -8) == -2\n",
    "\n",
    "test_gcd()\n",
    "print(\"Hello\")\n",
    "if __name__ == '__main__':\n",
    "    print('Hello')\n",
    "    test_gcd()\n",
    "    "
   ]
  }
 ],
 "metadata": {
  "kernelspec": {
   "display_name": "Python 3",
   "language": "python",
   "name": "python3"
  },
  "language_info": {
   "codemirror_mode": {
    "name": "ipython",
    "version": 3
   },
   "file_extension": ".py",
   "mimetype": "text/x-python",
   "name": "python",
   "nbconvert_exporter": "python",
   "pygments_lexer": "ipython3",
   "version": "3.5.2"
  }
 },
 "nbformat": 4,
 "nbformat_minor": 1
}
